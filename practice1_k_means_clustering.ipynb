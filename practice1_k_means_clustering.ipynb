{
  "cells": [
    {
      "cell_type": "markdown",
      "metadata": {
        "id": "view-in-github",
        "colab_type": "text"
      },
      "source": [
        "<a href=\"https://colab.research.google.com/github/wwjoon/k_means_clustering/blob/master/practice1_k_means_clustering.ipynb\" target=\"_parent\"><img src=\"https://colab.research.google.com/assets/colab-badge.svg\" alt=\"Open In Colab\"/></a>"
      ]
    },
    {
      "cell_type": "markdown",
      "id": "fe7066f3-689a-4725-ae01-cc06b9357e0d",
      "metadata": {
        "id": "fe7066f3-689a-4725-ae01-cc06b9357e0d"
      },
      "source": [
        "# AAI0026 Practice 1: K-means Clustering\n",
        "The k-means clustering method is an unsupervised learning technique used to identify clusters of data in a dataset. A lot of clustering methods exist, but k-means clustering is one of the approachable methods. Unsupervised learning is the algorithm which treats unlabeled data. Unlabeled data do not have their own name so we can't classify them manually. To cluster the data properly, we need to go through a few steps.\n",
        "\n",
        "Note: Make sure to sequentially run all the cells in each section, so that the intermediate variables / packages will carry over to the next cell\n",
        "\n",
        "Have fun!"
      ]
    },
    {
      "cell_type": "markdown",
      "id": "15338bce-6c58-47fb-9365-f88b18302a67",
      "metadata": {
        "id": "15338bce-6c58-47fb-9365-f88b18302a67"
      },
      "source": [
        "# Q1. Can you stack the data?\n",
        "In this section, we will tranform our data's structure. The data is represented by  n x 1 matrix. We need to treat the data appropriately. In many instances, the error of the code results from the wrong data structure. To prevent this problem, we should use  matrix concatenation. In other words, it is called 'stack' "
      ]
    },
    {
      "cell_type": "markdown",
      "id": "eff517ea",
      "metadata": {
        "id": "eff517ea"
      },
      "source": [
        "# Device\n",
        "You might need to use GPU for this Colab.\n",
        "\n",
        "Please click `Runtime` and then `Change runtime type`. Then set the `hardware accelerator` to **GPU**."
      ]
    },
    {
      "cell_type": "markdown",
      "id": "7526f21e-4a49-4196-8cf3-6dace0d8991b",
      "metadata": {
        "id": "7526f21e-4a49-4196-8cf3-6dace0d8991b"
      },
      "source": [
        "First of all, the data can be stacked appropriately. Thus far, we can transform the data after the following import statement."
      ]
    },
    {
      "cell_type": "code",
      "execution_count": 1,
      "id": "241e1ab4-1bab-4d82-bad7-10f44b3623e6",
      "metadata": {
        "id": "241e1ab4-1bab-4d82-bad7-10f44b3623e6"
      },
      "outputs": [],
      "source": [
        "import numpy as np"
      ]
    },
    {
      "cell_type": "markdown",
      "id": "4eaf7057-827b-4de0-89c8-a4b282346f24",
      "metadata": {
        "id": "4eaf7057-827b-4de0-89c8-a4b282346f24"
      },
      "source": [
        "The following usage is more useful.\n",
        "#### Hint: vstack, hstack, dstack"
      ]
    },
    {
      "cell_type": "code",
      "execution_count": 4,
      "id": "9b6d0f02-a9a0-403e-8ea8-0404d5297c6a",
      "metadata": {
        "colab": {
          "base_uri": "https://localhost:8080/"
        },
        "id": "9b6d0f02-a9a0-403e-8ea8-0404d5297c6a",
        "outputId": "1f1d8cfb-e992-4927-c32f-3baa25f1eca3"
      },
      "outputs": [
        {
          "output_type": "stream",
          "name": "stdout",
          "text": [
            "[1, 2, 3, 4, 5]\n",
            "\n",
            "[6, 7, 8, 9, 10]\n",
            "\n",
            "[[ 1  2  3  4  5]\n",
            " [ 6  7  8  9 10]]\n",
            "\n",
            "[ 1  2  3  4  5  6  7  8  9 10]\n"
          ]
        }
      ],
      "source": [
        "####################################### 본 코드에 앞서 연습을 위한 셀입니다. ###############################################\n",
        "X = [1,2,3,4,5]\n",
        "Y = [6,7,8,9,10]\n",
        "####### Your Code Here ##########\n",
        "# (~2 line of code) \n",
        "# Write Row and Column seperately\n",
        "# Row: makes the data stacking the direction of row\n",
        "# Column: makes the data stacking the direction of column\n",
        "\n",
        "Row = np.vstack([X, Y]) # 배열을 세로로 결합할 때 사용합니다, 요소(열) 개수가 일치해야 합니다.\n",
        "Column = np.hstack([X, Y]) # 배열을 가로로 결합할 때 사용합니다, 요소 개수인 열을 일치하지 않아도 됩니다. \n",
        "\n",
        "##############################\n",
        "\n",
        "print(X, Y, Row, Column, sep='\\n\\n') \n",
        "\n",
        "## There are another methods for concatenation in numpy libraray\n",
        "## Try to np.c_[X,Y] and np.r_[X,Y]\n",
        "## But commonly used methods are vstack, hstack and dstack."
      ]
    },
    {
      "cell_type": "markdown",
      "id": "df8edb31-5f8b-4ba6-8c2f-e0d3c066d321",
      "metadata": {
        "id": "df8edb31-5f8b-4ba6-8c2f-e0d3c066d321"
      },
      "source": [
        "The next step is 'plot'. The visualization with the plot is a useful tool for checking the result. To use this tool, the following statement is needed."
      ]
    },
    {
      "cell_type": "markdown",
      "id": "fd6c99e2-ee46-4e16-bd0a-c398c170ff11",
      "metadata": {
        "id": "fd6c99e2-ee46-4e16-bd0a-c398c170ff11"
      },
      "source": [
        "# Can you visualize your data?"
      ]
    },
    {
      "cell_type": "code",
      "execution_count": 5,
      "id": "32718350-f4f5-4c81-ae4f-b81696759e49",
      "metadata": {
        "id": "32718350-f4f5-4c81-ae4f-b81696759e49"
      },
      "outputs": [],
      "source": [
        "import matplotlib.pyplot as plt"
      ]
    },
    {
      "cell_type": "code",
      "execution_count": 6,
      "id": "6fd2de39-dfb7-4ef7-844e-9088f5da7986",
      "metadata": {
        "colab": {
          "base_uri": "https://localhost:8080/",
          "height": 282
        },
        "id": "6fd2de39-dfb7-4ef7-844e-9088f5da7986",
        "outputId": "1bae724b-e029-4d76-a3ad-38ee33a713a8"
      },
      "outputs": [
        {
          "output_type": "execute_result",
          "data": {
            "text/plain": [
              "[<matplotlib.lines.Line2D at 0x7fa25b64e710>]"
            ]
          },
          "metadata": {},
          "execution_count": 6
        },
        {
          "output_type": "display_data",
          "data": {
            "text/plain": [
              "<Figure size 432x288 with 1 Axes>"
            ],
            "image/png": "[encoded data removed]"
          },
          "metadata": {
            "needs_background": "light"
          }
        }
      ],
      "source": [
        "plt.plot(X,Y)"
      ]
    },
    {
      "cell_type": "markdown",
      "id": "0bc0da65-ac7d-4d6a-8b42-f9840da6f05e",
      "metadata": {
        "id": "0bc0da65-ac7d-4d6a-8b42-f9840da6f05e"
      },
      "source": [
        "There is also helpful tool for visualization. It is called subplot. Subplot is used when you need to see many plots at the same time. So, you can compare the results easily and briefly.\n",
        "A rule to use the subplot exist. Its grammar is almost same with normal plot. But there is a difference in the parentheses.\n"
      ]
    },
    {
      "cell_type": "code",
      "execution_count": 7,
      "id": "b723a1b9-3323-4e7b-b283-11815af5c17d",
      "metadata": {
        "colab": {
          "base_uri": "https://localhost:8080/",
          "height": 168
        },
        "id": "b723a1b9-3323-4e7b-b283-11815af5c17d",
        "outputId": "80abc619-181e-4e6e-9647-18fd934593d7"
      },
      "outputs": [
        {
          "output_type": "execute_result",
          "data": {
            "text/plain": [
              "<matplotlib.axes._subplots.AxesSubplot at 0x7fa25b6f2210>"
            ]
          },
          "metadata": {},
          "execution_count": 7
        },
        {
          "output_type": "display_data",
          "data": {
            "text/plain": [
              "<Figure size 432x288 with 1 Axes>"
            ],
            "image/png": "[encoded data removed]"
          },
          "metadata": {
            "needs_background": "light"
          }
        }
      ],
      "source": [
        "plt.subplot(2,3,1) "
      ]
    },
    {
      "cell_type": "markdown",
      "id": "51b8e745-ab0a-49e1-8e38-4e3f4e02925b",
      "metadata": {
        "id": "51b8e745-ab0a-49e1-8e38-4e3f4e02925b"
      },
      "source": [
        "First number of the parentheses means the number of column and the second one means row, the last one is an index number. In this rule, plt.subplot(2,3,1) eventually means that the 2x3 matrix of plot is constructed and the subplot is an (1,1) element."
      ]
    },
    {
      "cell_type": "code",
      "execution_count": 8,
      "id": "3031d200",
      "metadata": {
        "colab": {
          "base_uri": "https://localhost:8080/",
          "height": 282
        },
        "id": "3031d200",
        "outputId": "9bef3540-3e3a-4c0f-fb25-b4f0ce5149cb"
      },
      "outputs": [
        {
          "output_type": "execute_result",
          "data": {
            "text/plain": [
              "[<matplotlib.lines.Line2D at 0x7fa25b0c02d0>]"
            ]
          },
          "metadata": {},
          "execution_count": 8
        },
        {
          "output_type": "display_data",
          "data": {
            "text/plain": [
              "<Figure size 432x288 with 6 Axes>"
            ],
            "image/png": "[encoded data removed]"
          },
          "metadata": {
            "needs_background": "light"
          }
        }
      ],
      "source": [
        "plt.subplot(2,3,1)\n",
        "plt.plot(X,Y,'r*') ## * is a star marker, r = red, b = blue, g = green\n",
        "plt.subplot(2,3,2)\n",
        "plt.plot(X,Y,'b*')\n",
        "plt.subplot(2,3,3)\n",
        "plt.plot(X,Y,'g*')\n",
        "plt.subplot(2,3,4)\n",
        "plt.plot(X,Y,'r-') \n",
        "plt.subplot(2,3,5)\n",
        "plt.plot(X,Y,'b-')\n",
        "plt.subplot(2,3,6)\n",
        "plt.plot(X,Y,'g-')\n"
      ]
    },
    {
      "cell_type": "markdown",
      "id": "fcfe97fa-38c0-464a-b149-69c2d3f9469b",
      "metadata": {
        "id": "fcfe97fa-38c0-464a-b149-69c2d3f9469b"
      },
      "source": [
        "#  Q2. How to read the file stored outside the program?\n",
        "The data is sotred in this address\n",
        "\"https://raw.githubusercontent.com/meaning-ful/K-means/main/K-means.txt\"."
      ]
    },
    {
      "cell_type": "markdown",
      "id": "6b5aa2c2-b9a8-4337-b473-5ba163620873",
      "metadata": {
        "id": "6b5aa2c2-b9a8-4337-b473-5ba163620873"
      },
      "source": [
        "There is a module named pandas. It's one of the most famous and useful modules. There are many types of data structures. One of them is called dataframe. It's the structure for storing 2-dimensional data. The dataframe in pandas includes data's name and index. In other words, the data are labeled. You can read the file stored outside by using 'pd.read_csv' grammar. You can use a following hint.\n",
        "#### HINT: Use \"pd.read_csv\" method"
      ]
    },
    {
      "cell_type": "code",
      "execution_count": 9,
      "id": "3d847d47-8002-4ac5-8d2c-cf2c1f1320fa",
      "metadata": {
        "colab": {
          "base_uri": "https://localhost:8080/"
        },
        "id": "3d847d47-8002-4ac5-8d2c-cf2c1f1320fa",
        "outputId": "6d2fea22-7af0-49dd-b173-c104bc71d8f5"
      },
      "outputs": [
        {
          "output_type": "stream",
          "name": "stdout",
          "text": [
            "            X         Y\n",
            "0   -1.104990  0.948817\n",
            "1   -0.306807  0.612625\n",
            "2   -0.202678  0.658715\n",
            "3   -0.214805  0.034105\n",
            "4   -0.382061  1.303570\n",
            "..        ...       ...\n",
            "575 -1.408850  1.509450\n",
            "576 -0.706832  0.284357\n",
            "577 -0.279642 -0.062710\n",
            "578 -1.184950  1.164200\n",
            "579 -0.724035  1.325620\n",
            "\n",
            "[580 rows x 2 columns]\n"
          ]
        }
      ],
      "source": [
        "import pandas as pd\n",
        "dfLoad = pd.read_csv(\"https://raw.githubusercontent.com/meaning-ful/K-means/main/K-means.txt\", sep = \"\\s+\")\n",
        "print(dfLoad)"
      ]
    },
    {
      "cell_type": "markdown",
      "id": "30fc738e-5e04-4510-a9b2-920266502ae7",
      "metadata": {
        "id": "30fc738e-5e04-4510-a9b2-920266502ae7"
      },
      "source": [
        "The data file is uploaded in this github:\"https://raw.githubusercontent.com/meaning-ful/K-means/main/K-means.txt\". Parameter \"sep = \"\\s+\" \" of pd.read_csv means that there is a blank between adjacent numbers in a row. For example, look at the index 1 data. X = -1.104990 and Y = 0.948817. There is a blank space between two values. So, you need to specify this blank and pd.read_csv with \"sep = \"\\s+\" \" will take care of the spaces."
      ]
    },
    {
      "cell_type": "markdown",
      "id": "21e1513d-c511-4327-a939-f3b9a72fc556",
      "metadata": {
        "id": "21e1513d-c511-4327-a939-f3b9a72fc556"
      },
      "source": [
        "# Q3. Can you detach the data from given dataframe?"
      ]
    },
    {
      "cell_type": "markdown",
      "id": "ccd0584c-a8e9-495d-9806-7e3fb1960f62",
      "metadata": {
        "tags": [],
        "id": "ccd0584c-a8e9-495d-9806-7e3fb1960f62"
      },
      "source": [
        "Here are NumPy and Pandas practices to prepare for implementing k-means clustering"
      ]
    },
    {
      "cell_type": "code",
      "execution_count": 13,
      "id": "e0c48818-b0e4-4d83-b9e2-bb6ef568659f",
      "metadata": {
        "colab": {
          "base_uri": "https://localhost:8080/"
        },
        "id": "e0c48818-b0e4-4d83-b9e2-bb6ef568659f",
        "outputId": "6eec0b45-7f5d-4595-92bd-18a51503bea0"
      },
      "outputs": [
        {
          "output_type": "stream",
          "name": "stdout",
          "text": [
            "[2014 2015 2014 2015 2014 2015 2016 2017 2016 2014 2015 2017]\n",
            "[879 789 863 673 741 812 756 788 694 701 804 690]\n"
          ]
        }
      ],
      "source": [
        "####################################### 본 코드에 앞서 연습을 위한 셀입니다. ###############################################\n",
        "import pandas as pd\n",
        "import numpy as np\n",
        "\n",
        "ipl_data ={'Team':['Riders', 'Riders', 'Devils', 'Devils', 'Kings', 'Kings', 'Kings', 'Kings', 'Riders', 'Royals', 'Royals', 'Riders'],\n",
        "                  'Rank':[1,2,2,3,3,4,1,1,2,4,1,2], \n",
        "                  'Year':[2014,2015,2014,2015,2014,2015,2016,2017,2016,2014,2015,2017], \n",
        "                  'Points':[879,789,863,673,741,812,756,788,694,701,804,690] }\n",
        "###### Your Code Here #######\n",
        "# (~2 line of code)\n",
        "# use np.array\n",
        "# ipl_data의 계열들(Team, Rank, Year, Points) 중 2개를 임의로 선택해 np.array로 변환하여 각각 ipl1과 ipl2에 할당합니다.\n",
        "\n",
        "# ipl1 = np.array(ipl_data['Team'])\n",
        "# ipl2 = np.array(ipl_data['Rank'])\n",
        "ipl1 = np.array(ipl_data['Year'])\n",
        "ipl2 = np.array(ipl_data['Points'])\n",
        "\n",
        "##########################\n",
        "\n",
        "print(ipl1)\n",
        "print(ipl2)\n"
      ]
    },
    {
      "cell_type": "markdown",
      "id": "1726a60f-615a-43ca-b402-d1083260ffb2",
      "metadata": {
        "id": "1726a60f-615a-43ca-b402-d1083260ffb2"
      },
      "source": [
        "Now we need to visualize it"
      ]
    },
    {
      "cell_type": "code",
      "execution_count": 14,
      "id": "1aa59989-6480-4c34-82a2-c6b7effe1de6",
      "metadata": {
        "scrolled": true,
        "colab": {
          "base_uri": "https://localhost:8080/",
          "height": 282
        },
        "id": "1aa59989-6480-4c34-82a2-c6b7effe1de6",
        "outputId": "33a6ad1f-7f29-4555-8aa2-5be9085ed247"
      },
      "outputs": [
        {
          "output_type": "execute_result",
          "data": {
            "text/plain": [
              "[<matplotlib.lines.Line2D at 0x7fa252826090>]"
            ]
          },
          "metadata": {},
          "execution_count": 14
        },
        {
          "output_type": "display_data",
          "data": {
            "text/plain": [
              "<Figure size 432x288 with 1 Axes>"
            ],
            "image/png": "[encoded data removed]"
          },
          "metadata": {
            "needs_background": "light"
          }
        }
      ],
      "source": [
        "dfLoad = pd.read_csv(\"https://raw.githubusercontent.com/meaning-ful/K-means/main/K-means.txt\", sep = \"\\s+\")\n",
        "\n",
        "####### Your Code Here #########\n",
        "\n",
        "## (~2 lines of code)\n",
        "## Note: Detach the data stored on the address which is given.\n",
        "## \"https://raw.githubusercontent.com/meaning-ful/K-means/main/K-means.txt\".\n",
        "## 여기서 선언해야 하는 변수의 이름 x와 y로 해주시기 바랍니다.\n",
        "# Dataframe dfLoad의 두 column X와 Y를 각각 np.array로 만들어 변수 x와 y에 할당합니다.\n",
        "\n",
        "x = np.array(dfLoad['X'])\n",
        "y = np.array(dfLoad['Y'])\n",
        "\n",
        "################################\n",
        "\n",
        "f1 = plt.figure(1)\n",
        "ax1 = f1.add_subplot(111)\n",
        "ax1.plot(x, y, 'b.')\n"
      ]
    },
    {
      "cell_type": "markdown",
      "id": "030ddea3-a812-4877-b087-5ee17b6e73bb",
      "metadata": {
        "id": "030ddea3-a812-4877-b087-5ee17b6e73bb"
      },
      "source": [
        "As shown in the chart, it seems difficult to classify these data points manually."
      ]
    },
    {
      "cell_type": "markdown",
      "id": "10b47aa2-681a-438a-abc1-87358671c88d",
      "metadata": {
        "id": "10b47aa2-681a-438a-abc1-87358671c88d"
      },
      "source": [
        "# Q4. How to initialize latent variables?\n",
        "Latent Variable 이란 Centroid 와 같은 말입니다. 다음 셀에서 작성하셔야 할 코드는 Cluster에 해당하는 평균의 초기값을 잡는 것입니다. 이번 실습에서는 \n",
        "k = 2인 k-means clustering을 진행할 것입니다. 즉 데이터들을 두 개의 cluster로 나눌 것이고 따라서 Centroid(Latent variable)도 2개가 필요한 것입니다. \n",
        "이때, 평균을 Centroid를 z0와 z1 이라고 선언하시면 됩니다. \n",
        "\n",
        "초기값을 잡는 컨셉은, 데이터들의 좌표와 너무 동떨어진 값을 초기값으로 하지 않으려고 가지고 있는 580개의 데이터들의 x좌표와 y좌표의 평균과 표준편차를 구한 후, 하나는 (평균) + (표준편차), 다른 하나는  (평균) - (표준편차)로 정해서 z0와 z1로 선언하는 것입니다.\n",
        "\n"
      ]
    },
    {
      "cell_type": "code",
      "execution_count": 51,
      "id": "88ca347d-8c47-478d-81e3-dbf52ec9b2c2",
      "metadata": {
        "colab": {
          "base_uri": "https://localhost:8080/",
          "height": 317
        },
        "id": "88ca347d-8c47-478d-81e3-dbf52ec9b2c2",
        "outputId": "5e9be19d-73bf-4b15-f3b1-d51d7b1b2a3f"
      },
      "outputs": [
        {
          "output_type": "stream",
          "name": "stdout",
          "text": [
            "(1, 2)\n",
            "(1, 2)\n"
          ]
        },
        {
          "output_type": "execute_result",
          "data": {
            "text/plain": [
              "[<matplotlib.lines.Line2D at 0x7fa251c0dad0>]"
            ]
          },
          "metadata": {},
          "execution_count": 51
        },
        {
          "output_type": "display_data",
          "data": {
            "text/plain": [
              "<Figure size 432x288 with 1 Axes>"
            ],
            "image/png": "[encoded data removed]"
          },
          "metadata": {
            "needs_background": "light"
          }
        }
      ],
      "source": [
        "f1 = plt.figure(1)\n",
        "ax1 = f1.add_subplot(111)\n",
        "ax1.plot(x, y, 'b.')\n",
        "[mx, sx] = [np.mean(x), np.std(x)]\n",
        "[my, sy] = [np.mean(y), np.std(y)]\n",
        "\n",
        "####### Your Code Here ##########\n",
        "\n",
        "## (~2 line of code)\n",
        "# Note. reshape\n",
        "# reshape을 써야하는 이유: 벡터를 array 형태로 저장했을 경우 size를 출력해보면 (n,1)이 아닌 (n, ) 로 뜹니다.\n",
        "# 이럴경우 벡터의 연산이나 행렬의 연산이 불가능하다. 따라서 reshape을 통해[예시) .reshape(n,1)] 연산이 가능한 행렬, 벡터꼴로 만들어줘야 합니다.\n",
        "\n",
        "z0 = np.array([mx-sx, my-sy])\n",
        "z1 = np.array([mx+sx, my+sy])\n",
        "\n",
        "z0 = z0.reshape(-1,2)\n",
        "z1 = z1.reshape(-1,2)\n",
        "print(z0.shape)\n",
        "print(z1.shape)\n",
        "\n",
        "#################################\n",
        "\n",
        "Z = np.vstack([z0, z1])\n",
        "ax1.plot(Z[:,0], Z[:,1], 'r*', markersize = '20')"
      ]
    },
    {
      "cell_type": "markdown",
      "id": "f38eea3b-2425-485a-be7e-51467eefd727",
      "metadata": {
        "tags": [],
        "id": "f38eea3b-2425-485a-be7e-51467eefd727"
      },
      "source": [
        "# Implement EM-Algorithm\n",
        "\n"
      ]
    },
    {
      "cell_type": "markdown",
      "id": "96b53e44",
      "metadata": {
        "id": "96b53e44"
      },
      "source": [
        "### Hint: Use 'Groupby' method ###\n",
        "![test](https://raw.githubusercontent.com/meaning-ful/kmenas-pseudo/main/Groupby.png)"
      ]
    },
    {
      "cell_type": "code",
      "execution_count": 54,
      "id": "258b7298",
      "metadata": {
        "colab": {
          "base_uri": "https://localhost:8080/"
        },
        "id": "258b7298",
        "outputId": "4ec3fed5-4b01-4b0c-897e-48143b4e7afd"
      },
      "outputs": [
        {
          "output_type": "stream",
          "name": "stdout",
          "text": [
            "      Team  Rank  Year  Points\n",
            "0   Riders     1  2014     879\n",
            "1   Riders     2  2015     789\n",
            "2   Devils     2  2014     863\n",
            "3   Devils     3  2015     673\n",
            "4    Kings     3  2014     741\n",
            "5    Kings     4  2015     812\n",
            "6    Kings     1  2016     756\n",
            "7    Kings     1  2017     788\n",
            "8   Riders     2  2016     694\n",
            "9   Royals     4  2014     701\n",
            "10  Royals     1  2015     804\n",
            "11  Riders     2  2017     690 \n",
            "\n",
            "<pandas.core.groupby.generic.DataFrameGroupBy object at 0x7fa251bb9d10> \n",
            "\n",
            "        Rank  Year  Points\n",
            "Team                      \n",
            "Devils     5  4029    1536\n",
            "Kings      9  8062    3097\n",
            "Riders     7  8062    3052\n",
            "Royals     5  4029    1505\n"
          ]
        }
      ],
      "source": [
        "####################################### 본 코드에 앞서 연습을 위한 셀입니다. ###############################################\n",
        "\n",
        "\n",
        "## Groupby \n",
        "import pandas as pd\n",
        "import numpy as np\n",
        "\n",
        "ipl_data ={'Team':['Riders', 'Riders', 'Devils', 'Devils', 'Kings', 'Kings', 'Kings', 'Kings', 'Riders', 'Royals', 'Royals', 'Riders'],\n",
        "                  'Rank':[1,2,2,3,3,4,1,1,2,4,1,2], \n",
        "                  'Year':[2014,2015,2014,2015,2014,2015,2016,2017,2016,2014,2015,2017], \n",
        "                  'Points':[879,789,863,673,741,812,756,788,694,701,804,690] }\n",
        "ipl_df = pd.DataFrame(ipl_data) \n",
        "####### Your Code Here ##########\n",
        "\n",
        "## ( ~ 2 line of code)   \n",
        "# Note: Sum of points by team\n",
        "# Note:  ipl_df_groupby에 ipl_data를 “Team”으로 groupby를 해서 선언하면 됩니다\n",
        "# Note: groupbySum은 groupby된 것을 통해  더하기 연산을 수행해주는 것입니다.\n",
        "#ipl_df_groupby라는 것은 ipl_df를 groupby 함수를 이용해 dataframe을 변형시켜 할당해 놓은 것입니다.\n",
        "#ipl_df_groupbySum은 Team으로 groupby해서 Team별 Points 합을 구한 것입니다.\n",
        "\n",
        "# 이 부분에 관한 설명은 LMS 공지사항에 더 자세하게 설명이 되어 있으니 참고하시면 됩니다.\n",
        "\n",
        "ipl_df_groupby = ipl_df.groupby(['Team'])\n",
        "ipl_df_groupbySum = ipl_df_groupby.sum()\n",
        "\n",
        "##############################\n",
        "        \n",
        "\n",
        "\n",
        "print(ipl_df, '\\n')\n",
        "print(ipl_df_groupby, '\\n')\n",
        "print(ipl_df_groupbySum)"
      ]
    },
    {
      "cell_type": "markdown",
      "id": "54feb873",
      "metadata": {
        "id": "54feb873"
      },
      "source": [
        "### Hint: Use 'np.linalg.norm' method ###\n"
      ]
    },
    {
      "cell_type": "code",
      "execution_count": 55,
      "id": "0ae21367",
      "metadata": {
        "colab": {
          "base_uri": "https://localhost:8080/"
        },
        "id": "0ae21367",
        "outputId": "a64b0ebd-9269-4b3f-fc04-99a5d2911953"
      },
      "outputs": [
        {
          "output_type": "stream",
          "name": "stdout",
          "text": [
            "16.0\n",
            "9.16515138991168\n",
            "7.91578321936081\n"
          ]
        }
      ],
      "source": [
        "####################################### 본 코드에 앞서 연습을 위한 셀입니다. ###############################################\n",
        "\n",
        "import numpy as np\n",
        "\n",
        "ArrayforNorm = np.array([1, 3, 5, 7])\n",
        "Norm1 = np.linalg.norm(ArrayforNorm, 1) ## Vector 1-norm\n",
        "####### Your Code Here ##########\n",
        "\n",
        "## Vector 2-norm\n",
        "## Vectpr 3-norm\n",
        "## norm 함수로 연습을 진행하는 이유는, 본 코드 진행시 Centroid를 update하는데 사용되기 때문입니다.\n",
        "\n",
        "Norm2 = np.linalg.norm(ArrayforNorm, 2) ## Vector 1-norm\n",
        "Norm3 = np.linalg.norm(ArrayforNorm, 3) ## Vector 1-norm\n",
        "\n",
        "##############################\n",
        "print(Norm1)\n",
        "print(Norm2)\n",
        "print(Norm3)"
      ]
    },
    {
      "cell_type": "markdown",
      "id": "b4566618",
      "metadata": {
        "id": "b4566618"
      },
      "source": [
        "![test](https://raw.githubusercontent.com/meaning-ful/kmenas-pseudo/main/1.%20Psuedo%20Code.png)\n",
        "EM 알고리즘은 2가지 Step을 iteration하면서 update하는 알고리즘입니다. \n",
        "\n",
        "step1) 군집의 초기 평균값 z0,z1으로 데이터를 clustering한다.\n",
        "\n",
        "step2) clutering된 데이터들에서 각 cluster별로 평균을 다시 구해 z0,z1을 update한다.\n",
        "\n",
        "step3) step1, step2 반복(iteration)"
      ]
    },
    {
      "cell_type": "code",
      "execution_count": 56,
      "id": "1b587a4f-5a65-4381-b874-58d0ef8abced",
      "metadata": {
        "id": "1b587a4f-5a65-4381-b874-58d0ef8abced"
      },
      "outputs": [],
      "source": [
        "from locale import D_T_FMT\n",
        "N = len(x)\n",
        "numK = 2\n",
        "## numK 는 cluster의 수입니다. 즉 k=2 인 clustering입니다.\n",
        "## N = len(x) 이므로 N = 580이고 아래 for문을 통해 총 580번 iteration을 돌리기 위해 선언한 변수입니다.\n",
        "samples = np.array(dfLoad)\n",
        "\n",
        "k = np.zeros(N)\n",
        "j = 0\n",
        "\n",
        "# Step 1) while(True)\n",
        "while(True):\n",
        "    j += 1\n",
        "    kOld = np.copy(k)\n",
        "    ## kOld = k로 안 쓴 이유는 다음과 같습니다.\n",
        "    ## 예)\n",
        "    ## a = 2\n",
        "    ## b = a\n",
        "    ## a = a+2\n",
        "    ## print(b)를 할경우 \n",
        "    ## b = 2가 아닌 같이 update되서 b = 4가 출력이 된다.(np.array 특징)\n",
        "    ## 이러면 step 3의 for문에 대해서 항상 True나오게 된다. (데이터를 백업하는게 아니라 주소를 따라가기 때문)\n",
        "    ## 따라서 데이터만 백업하는 것이 copy이다.\n",
        "    \n",
        "# Step 2) for(i = 1 to N)\n",
        "    for i in np.arange(N):\n",
        "        ####### Your Code Here ##########\n",
        "        \n",
        "        ## ( ~ 2 line of code)\n",
        "        ## z0D, z1D에서 D는 Distance(거리)입니다.\n",
        "        ## 초반에 선언했던 변수 samples를 사용해야 합니다.\n",
        "        ## EM 알고리즘 그림 아래 설명 부분을 참고해서 평균을 어떻게  update할 지 생각해 보시면 됩니다.\n",
        "        \n",
        "        z0D = np.linalg.norm(samples[i] - Z[0], 2)\n",
        "        z1D = np.linalg.norm(samples[i] - Z[1], 2)\n",
        "\n",
        "        #################################\n",
        "        \n",
        "        k[i] = z0D > z1D\n",
        "# Step3) if(No change of mapping from prev. loop)break        \n",
        "    if(np.alltrue(kOld == k)):\n",
        "        break        \n",
        "    # if(kOld == k)로 하면 오류가 납니다.\n",
        "    # 그 이유는 모든 component들에 대해서 비교를 하는 것이 저 문법이 아니기 때문입니다.\n",
        "    # 모든 component들에 대해서 비교를 하는 것은 np.alltrue(kOld == k) 입니다.\n",
        "    \n",
        "# Step4) for( j =1 to K)               \n",
        "    dfCluster = pd.DataFrame(np.vstack([x, y, k]).T)\n",
        "    \n",
        "    ####### Your Code Here #########\n",
        "    ## (~2 lines of code)\n",
        "    \n",
        "    ## Note: dfCluster를 dataframe 형태의 자료구조로 저장을 했으니 각 열(column)의 이름을 정해주시면 됩니다.->hint:  .columns\n",
        "    #열의 이름은 편의를 위해 대문자 X,Y,K로 하시면 됩니다.\n",
        "    \n",
        "    ## Note: groupby를 해서 dfGroup으로 선언해주시면 됩니다.(열의 이름은 편의를 위해 대문자 X,Y,K로 하시면 됩니다.)\n",
        "    # groupby를 할 때 data들을 clustering하는 것이고 같은 cluster가 되는 정보는 K 열에 할당이 되어있습니다.\n",
        "    # 즉 data들이 0번 또는 1번 cluster에 들어간다라고 말해주는 것이 K입니다.\n",
        "    # 따라서 K열로 groupby를 진행하시면 됩니다.\n",
        "\n",
        "    dfCluster.columns = ['X', 'Y', 'K']\n",
        "    dfGroup = dfCluster.groupby('K')\n",
        "\n",
        "    ################################\n",
        "    for cluster in range(numK):\n",
        "        Z[cluster,:] = dfGroup.mean().iloc[cluster]\n",
        "        ## df.Group.mean()는 각 cluster 별 mean들을 의미하고, \n",
        "        ## dfGroup.mean().iloc[cluster]는 “cluster” index에 해당하는 mean, 즉 한 cluster mean을 의미합니다.\n",
        "        ## Z로 mapping된 data들을 cluster의 번호로 할당해주기 위함입니다.(그림참조)"
      ]
    },
    {
      "cell_type": "markdown",
      "id": "e20cb267-4026-4a1d-9616-d060fb31e766",
      "metadata": {
        "id": "e20cb267-4026-4a1d-9616-d060fb31e766"
      },
      "source": [
        "# Visualization of Result"
      ]
    },
    {
      "cell_type": "code",
      "execution_count": 67,
      "id": "6bdd938e-ac6e-4eb6-8c8f-785268a310bd",
      "metadata": {
        "colab": {
          "base_uri": "https://localhost:8080/",
          "height": 300
        },
        "id": "6bdd938e-ac6e-4eb6-8c8f-785268a310bd",
        "outputId": "999cc99e-661e-4f4a-ba48-c4e29fd24815"
      },
      "outputs": [
        {
          "output_type": "stream",
          "name": "stderr",
          "text": [
            "WARNING:matplotlib.legend:No handles with labels found to put in legend.\n"
          ]
        },
        {
          "output_type": "execute_result",
          "data": {
            "text/plain": [
              "<matplotlib.legend.Legend at 0x7fa25b11fe50>"
            ]
          },
          "metadata": {},
          "execution_count": 67
        },
        {
          "output_type": "display_data",
          "data": {
            "text/plain": [
              "<Figure size 432x288 with 1 Axes>"
            ],
            "image/png": "[encoded data removed]"
          },
          "metadata": {
            "needs_background": "light"
          }
        }
      ],
      "source": [
        "f2 = plt.figure(2)\n",
        "ax2 = f2.add_subplot(111)\n",
        "# ax2.plot(x, y, 'b.')\n",
        "for (cluster, dataInCluster) in dfGroup:\n",
        "    ####### Your Code Here #########\n",
        "    \n",
        "    ## (~1 lines of code)\n",
        "    ## Note: for문에서 (cluster, dataInCluster)에서 cluster 는 앞의 셀에서 for문에 있는 cluster와 같은 것입니다.\n",
        "    ## 즉, cluster의 인덱스 번호라고 생각하시면 됩니다.\n",
        "    ## 따라서, p번째 cluster에서, dfGroup에 있는 데이터들을 dataInCluster에 저장하겠다는 것이고\n",
        "    ## 이를 데이터들이 나와있는 plot에 같이 표시하게끔 코딩하시면 됩니다.\n",
        "    \n",
        "    ax2.plot(dataInCluster['X'], dataInCluster['Y'], '^')\n",
        "\n",
        "    ################################\n",
        "    #ax2.plot()\n",
        "\n",
        "ax2.plot(Z[:,0], Z[:,1], 'r*', markersize = '20')\n",
        "ax2.legend()"
      ]
    },
    {
      "cell_type": "markdown",
      "id": "998f0651-5fad-4d65-85a7-faa4a3a6ccd3",
      "metadata": {
        "id": "998f0651-5fad-4d65-85a7-faa4a3a6ccd3"
      },
      "source": [
        "# Final code"
      ]
    },
    {
      "cell_type": "code",
      "execution_count": 68,
      "id": "0f130d01-c496-4527-96a0-4b1fde1e08e8",
      "metadata": {
        "colab": {
          "base_uri": "https://localhost:8080/",
          "height": 548
        },
        "id": "0f130d01-c496-4527-96a0-4b1fde1e08e8",
        "outputId": "b5f53b6d-db57-4590-9337-5eb660ed596d"
      },
      "outputs": [
        {
          "output_type": "stream",
          "name": "stderr",
          "text": [
            "WARNING:matplotlib.legend:No handles with labels found to put in legend.\n"
          ]
        },
        {
          "output_type": "execute_result",
          "data": {
            "text/plain": [
              "<matplotlib.legend.Legend at 0x7fa252217810>"
            ]
          },
          "metadata": {},
          "execution_count": 68
        },
        {
          "output_type": "display_data",
          "data": {
            "text/plain": [
              "<Figure size 432x288 with 1 Axes>"
            ],
            "image/png": "[encoded data removed]"
          },
          "metadata": {
            "needs_background": "light"
          }
        },
        {
          "output_type": "display_data",
          "data": {
            "text/plain": [
              "<Figure size 432x288 with 1 Axes>"
            ],
            "image/png": "[encoded data removed]"
          },
          "metadata": {
            "needs_background": "light"
          }
        }
      ],
      "source": [
        "import numpy as np\n",
        "import math as m\n",
        "import matplotlib.pyplot as plt\n",
        "import pandas as pd\n",
        "\n",
        "plt.close(\"all\")\n",
        "\n",
        "dfLoad = pd.read_csv(\"https://raw.githubusercontent.com/meaning-ful/K-means/main/K-means.txt\",  sep=\"\\s+\")\n",
        "\n",
        "samples = np.array(dfLoad)\n",
        "####### Your Code Here #########\n",
        "## (~2 lines of code)\n",
        "\n",
        "x = samples[:, 0]\n",
        "y = samples[:, 1]\n",
        "\n",
        "################################\n",
        "\n",
        "N = len(x)\n",
        "numK = 2\n",
        "\n",
        "f1 = plt.figure(1)\n",
        "ax1 = f1.add_subplot(111)\n",
        "ax1.plot(x, y, 'b.')\n",
        "\n",
        "mx, sx = np.mean(x), np.std(x)\n",
        "my, sy = np.mean(y), np.std(y)\n",
        "####### Your Code Here #########\n",
        "## (~2 lines of code)\n",
        "\n",
        "z0 = np.array([mx-sx, my-sy])\n",
        "z1 = np.array([mx+sx, my+sy])\n",
        "\n",
        "################################\n",
        "\n",
        "Z = np.vstack([z0, z1])\n",
        "ax1.plot(Z[:,0], Z[:,1], 'r*', markersize = '20')\n",
        "\n",
        "k = np.zeros(N)\n",
        "j = 0\n",
        "\n",
        "while(True):\n",
        "    j += 1\n",
        "    kOld = np.copy(k)\n",
        "    for i in np.arange(N):\n",
        "\n",
        "        ####### Your Code Here #########\n",
        "        ## (~2 lines of code)\n",
        "\n",
        "        z0D = np.linalg.norm(samples[i] - Z[0], 2)\n",
        "        z1D = np.linalg.norm(samples[i] - Z[1], 2)\n",
        "\n",
        "        ################################\n",
        "        \n",
        "        k[i] = z0D > z1D\n",
        "    if(np.alltrue(kOld == k)):\n",
        "        break\n",
        "        \n",
        "    dfCluster = pd.DataFrame(np.vstack([x,y,k]).T)\n",
        "    ####### Your Code Here #########\n",
        "    ## (~2 lines of code)\n",
        "\n",
        "    dfCluster.columns = ['X', 'Y', 'K']\n",
        "    dfGroup = dfCluster.groupby('K')\n",
        "\n",
        "    ################################\n",
        "    \n",
        "    for cluster in range(numK):\n",
        "        Z[cluster,:] = dfGroup.mean().iloc[cluster]\n",
        "\n",
        "\n",
        "f2 = plt.figure(2)\n",
        "ax2 = f2.add_subplot(111)\n",
        "\n",
        "for (cluster, dataInCluster) in dfGroup:\n",
        "    ####### Your Code Here #########\n",
        "    ## (~1 lines of code)\n",
        "\n",
        "    ax2.plot(dataInCluster['X'], dataInCluster['Y'], '^')\n",
        "\n",
        "    ################################\n",
        "\n",
        "ax2.plot(Z[:,0], Z[:,1], 'r*', markersize = '20')\n",
        "ax2.legend()"
      ]
    },
    {
      "cell_type": "markdown",
      "id": "af1b8883",
      "metadata": {
        "id": "af1b8883"
      },
      "source": [
        "# Submission\n",
        "In order to get credit, you need to submit the ipynb file to LMS.\n",
        "\n",
        "To get this file, click File and Download .ipynb. Please make sure that your output of each cell is available in your ipynb file."
      ]
    }
  ],
  "metadata": {
    "kernelspec": {
      "display_name": "Python 3 (ipykernel)",
      "language": "python",
      "name": "python3"
    },
    "language_info": {
      "codemirror_mode": {
        "name": "ipython",
        "version": 3
      },
      "file_extension": ".py",
      "mimetype": "text/x-python",
      "name": "python",
      "nbconvert_exporter": "python",
      "pygments_lexer": "ipython3",
      "version": "3.9.12"
    },
    "colab": {
      "provenance": [],
      "include_colab_link": true
    },
    "accelerator": "GPU"
  },
  "nbformat": 4,
  "nbformat_minor": 5
}