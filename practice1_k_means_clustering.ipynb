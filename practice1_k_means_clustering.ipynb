{
 "cells": [
  {
   "cell_type": "markdown",
   "id": "fe7066f3-689a-4725-ae01-cc06b9357e0d",
   "metadata": {},
   "source": [
    "# AAI0026 Practice 1: K-means Clustering\n",
    "The k-means clustering method is an unsupervised learning technique used to identify clusters of data in a dataset. A lot of clustering methods exist, but k-means clustering is one of the approachable methods. Unsupervised learning is the algorithm which treats unlabeled data. Unlabeled data do not have their own name so we can't classify them manually. To cluster the data properly, we need to go through a few steps.\n",
    "\n",
    "Note: Make sure to sequentially run all the cells in each section, so that the intermediate variables / packages will carry over to the next cell\n",
    "\n",
    "Have fun!"
   ]
  },
  {
   "cell_type": "markdown",
   "id": "15338bce-6c58-47fb-9365-f88b18302a67",
   "metadata": {},
   "source": [
    "# Q1. Can you stack the data?\n",
    "In this section, we will tranform our data's structure. The data is represented by  n x 1 matrix. We need to treat the data appropriately. In many instances, the error of the code results from the wrong data structure. To prevent this problem, we should use  matrix concatenation. In other words, it is called 'stack' "
   ]
  },
  {
   "cell_type": "markdown",
   "id": "eff517ea",
   "metadata": {},
   "source": [
    "# Device\n",
    "You might need to use GPU for this Colab.\n",
    "\n",
    "Please click `Runtime` and then `Change runtime type`. Then set the `hardware accelerator` to **GPU**."
   ]
  },
  {
   "cell_type": "markdown",
   "id": "7526f21e-4a49-4196-8cf3-6dace0d8991b",
   "metadata": {},
   "source": [
    "First of all, the data can be stacked appropriately. Thus far, we can transform the data after the following import statement."
   ]
  },
  {
   "cell_type": "code",
   "execution_count": 16,
   "id": "241e1ab4-1bab-4d82-bad7-10f44b3623e6",
   "metadata": {},
   "outputs": [],
   "source": [
    "import numpy as np"
   ]
  },
  {
   "cell_type": "markdown",
   "id": "4eaf7057-827b-4de0-89c8-a4b282346f24",
   "metadata": {},
   "source": [
    "The following usage is more useful.\n",
    "#### Hint: vstack, hstack, dstack"
   ]
  },
  {
   "cell_type": "code",
   "execution_count": 24,
   "id": "9b6d0f02-a9a0-403e-8ea8-0404d5297c6a",
   "metadata": {},
   "outputs": [
    {
     "name": "stdout",
     "output_type": "stream",
     "text": [
      "[1, 2, 3, 4, 5]\n",
      "\n",
      "[6, 7, 8, 9, 10]\n",
      "\n"
     ]
    },
    {
     "ename": "NameError",
     "evalue": "name 'Row' is not defined",
     "output_type": "error",
     "traceback": [
      "\u001b[1;31m---------------------------------------------------------------------------\u001b[0m",
      "\u001b[1;31mNameError\u001b[0m                                 Traceback (most recent call last)",
      "Input \u001b[1;32mIn [24]\u001b[0m, in \u001b[0;36m<cell line: 13>\u001b[1;34m()\u001b[0m\n\u001b[0;32m     11\u001b[0m \u001b[38;5;28mprint\u001b[39m(Y)\n\u001b[0;32m     12\u001b[0m \u001b[38;5;28mprint\u001b[39m()\n\u001b[1;32m---> 13\u001b[0m \u001b[38;5;28mprint\u001b[39m(\u001b[43mRow\u001b[49m) \u001b[38;5;66;03m# it makes the data stacking the direction of row\u001b[39;00m\n\u001b[0;32m     14\u001b[0m \u001b[38;5;28mprint\u001b[39m()\n\u001b[0;32m     15\u001b[0m \u001b[38;5;28mprint\u001b[39m(Column)\n",
      "\u001b[1;31mNameError\u001b[0m: name 'Row' is not defined"
     ]
    }
   ],
   "source": [
    "X = [1,2,3,4,5]\n",
    "Y = [6,7,8,9,10]\n",
    "####### Your Code Here ##########\n",
    "# (~2 line of code) \n",
    "# Write Row and Column seperately\n",
    "\n",
    "##############################\n",
    "\n",
    "# Row: makes the data stacking the direction of row\n",
    "# Column: makes the data stacking the direction of column\n",
    "print(X, Y, Row, Column, sep='\\n\\n') \n",
    "\n",
    "## There are another methods for concatenation in numpy libraray\n",
    "## Try to np.c_[X,Y] and np.r_[X,Y]\n",
    "## But commonly used methods are vstack, hstack and dstack."
   ]
  },
  {
   "cell_type": "markdown",
   "id": "df8edb31-5f8b-4ba6-8c2f-e0d3c066d321",
   "metadata": {},
   "source": [
    "The next step is 'plot'. The visualization with the plot is a useful tool for checking the result. To use this tool, the following statement is needed."
   ]
  },
  {
   "cell_type": "markdown",
   "id": "fd6c99e2-ee46-4e16-bd0a-c398c170ff11",
   "metadata": {},
   "source": [
    "# Can you visualize your data?"
   ]
  },
  {
   "cell_type": "code",
   "execution_count": 25,
   "id": "32718350-f4f5-4c81-ae4f-b81696759e49",
   "metadata": {},
   "outputs": [],
   "source": [
    "import matplotlib.pyplot as plt"
   ]
  },
  {
   "cell_type": "code",
   "execution_count": 26,
   "id": "6fd2de39-dfb7-4ef7-844e-9088f5da7986",
   "metadata": {},
   "outputs": [
    {
     "data": {
      "text/plain": [
       "[<matplotlib.lines.Line2D at 0x228a614c9a0>]"
      ]
     },
     "execution_count": 26,
     "metadata": {},
     "output_type": "execute_result"
    },
    {
     "data": {
      "image/png": "[encoded data removed]",
      "text/plain": [
       "<Figure size 432x288 with 1 Axes>"
      ]
     },
     "metadata": {
      "needs_background": "light"
     },
     "output_type": "display_data"
    }
   ],
   "source": [
    "plt.plot(X,Y)"
   ]
  },
  {
   "cell_type": "markdown",
   "id": "0bc0da65-ac7d-4d6a-8b42-f9840da6f05e",
   "metadata": {},
   "source": [
    "There is also helpful tool for visualization. It is called subplot. Subplot is used when you need to see many plots at the same time. So, you can compare the results easily and briefly.\n",
    "A rule to use the subplot exist. Its grammar is almost same with normal plot. But there is a difference in the parentheses.\n"
   ]
  },
  {
   "cell_type": "code",
   "execution_count": 6,
   "id": "b723a1b9-3323-4e7b-b283-11815af5c17d",
   "metadata": {},
   "outputs": [
    {
     "ename": "NameError",
     "evalue": "name 'plt' is not defined",
     "output_type": "error",
     "traceback": [
      "\u001b[1;31m---------------------------------------------------------------------------\u001b[0m",
      "\u001b[1;31mNameError\u001b[0m                                 Traceback (most recent call last)",
      "Input \u001b[1;32mIn [6]\u001b[0m, in \u001b[0;36m<cell line: 1>\u001b[1;34m()\u001b[0m\n\u001b[1;32m----> 1\u001b[0m \u001b[43mplt\u001b[49m\u001b[38;5;241m.\u001b[39msubplot(\u001b[38;5;241m2\u001b[39m,\u001b[38;5;241m3\u001b[39m,\u001b[38;5;241m1\u001b[39m)\n",
      "\u001b[1;31mNameError\u001b[0m: name 'plt' is not defined"
     ]
    }
   ],
   "source": [
    "plt.subplot(2,3,1) "
   ]
  },
  {
   "cell_type": "markdown",
   "id": "51b8e745-ab0a-49e1-8e38-4e3f4e02925b",
   "metadata": {},
   "source": [
    "First number of the parentheses means the number of column and the second one means row, the last one is an index number. In this rule, plt.subplot(2,3,1) eventually means that the 2x3 matrix of plot is constructed and the subplot is an (1,1) element."
   ]
  },
  {
   "cell_type": "code",
   "execution_count": 28,
   "id": "3031d200",
   "metadata": {},
   "outputs": [
    {
     "data": {
      "text/plain": [
       "[<matplotlib.lines.Line2D at 0x228a8a0f670>]"
      ]
     },
     "execution_count": 28,
     "metadata": {},
     "output_type": "execute_result"
    },
    {
     "data": {
      "image/png": "[encoded data removed]",
      "text/plain": [
       "<Figure size 432x288 with 6 Axes>"
      ]
     },
     "metadata": {
      "needs_background": "light"
     },
     "output_type": "display_data"
    }
   ],
   "source": [
    "plt.subplot(2,3,1)\n",
    "plt.plot(X,Y,'r*') ## * is a star marker, r = red, b = blue, g = green\n",
    "plt.subplot(2,3,2)\n",
    "plt.plot(X,Y,'b*')\n",
    "plt.subplot(2,3,3)\n",
    "plt.plot(X,Y,'g*')\n",
    "plt.subplot(2,3,4)\n",
    "plt.plot(X,Y,'r-') \n",
    "plt.subplot(2,3,5)\n",
    "plt.plot(X,Y,'b-')\n",
    "plt.subplot(2,3,6)\n",
    "plt.plot(X,Y,'g-')\n"
   ]
  },
  {
   "cell_type": "markdown",
   "id": "fcfe97fa-38c0-464a-b149-69c2d3f9469b",
   "metadata": {},
   "source": [
    "#  Q2. How to read the file stored outside the program?\n",
    "The data is sotred in this address\n",
    "\"https://raw.githubusercontent.com/meaning-ful/K-means/main/K-means.txt\"."
   ]
  },
  {
   "cell_type": "markdown",
   "id": "6b5aa2c2-b9a8-4337-b473-5ba163620873",
   "metadata": {},
   "source": [
    "There is a module named pandas. It's one of the most famous and useful modules. There are many types of data structures. One of them is called dataframe. It's the structure for storing 2-dimensional data. The dataframe in pandas includes data's name and index. In other words, the data are labeled. You can read the file stored outside by using 'pd.read_csv' grammar. follow the sentence\n",
    "#### HINT: Use \"pd.read_csv\" method"
   ]
  },
  {
   "cell_type": "code",
   "execution_count": 29,
   "id": "3d847d47-8002-4ac5-8d2c-cf2c1f1320fa",
   "metadata": {},
   "outputs": [
    {
     "ename": "SyntaxError",
     "evalue": "invalid syntax (4178979395.py, line 2)",
     "output_type": "error",
     "traceback": [
      "\u001b[1;36m  Input \u001b[1;32mIn [29]\u001b[1;36m\u001b[0m\n\u001b[1;33m    dfLoad = ## Your code Here ##\u001b[0m\n\u001b[1;37m             ^\u001b[0m\n\u001b[1;31mSyntaxError\u001b[0m\u001b[1;31m:\u001b[0m invalid syntax\n"
     ]
    }
   ],
   "source": [
    "import pandas as pd\n",
    "dfLoad = ## Your code Here ## \n",
    "print(dfLoad)"
   ]
  },
  {
   "cell_type": "markdown",
   "id": "30fc738e-5e04-4510-a9b2-920266502ae7",
   "metadata": {},
   "source": [
    "The data file is uploaded in this github:\"https://raw.githubusercontent.com/meaning-ful/K-means/main/K-means.txt\". Parameter \"sep = \"\\s+\" \" of pd.read_csv means that there is a blank between adjacent numbers in a row. For example, look at the index 1 data. X = -1.104990 and Y = 0.948817. There is a blank space between two values. So, you need to specify this blank and pd.read_csv with \"sep = \"\\s+\" \" will take care of the spaces."
   ]
  },
  {
   "cell_type": "markdown",
   "id": "21e1513d-c511-4327-a939-f3b9a72fc556",
   "metadata": {},
   "source": [
    "# Q3. Can you detach the data from given dataframe?"
   ]
  },
  {
   "cell_type": "markdown",
   "id": "ccd0584c-a8e9-495d-9806-7e3fb1960f62",
   "metadata": {
    "tags": []
   },
   "source": [
    "The preparation to implement an K-means algorithm is done. Now all the import statements are rewritten."
   ]
  },
  {
   "cell_type": "code",
   "execution_count": 30,
   "id": "e0c48818-b0e4-4d83-b9e2-bb6ef568659f",
   "metadata": {},
   "outputs": [
    {
     "ename": "NameError",
     "evalue": "name 'ipl1' is not defined",
     "output_type": "error",
     "traceback": [
      "\u001b[1;31m---------------------------------------------------------------------------\u001b[0m",
      "\u001b[1;31mNameError\u001b[0m                                 Traceback (most recent call last)",
      "Input \u001b[1;32mIn [30]\u001b[0m, in \u001b[0;36m<cell line: 14>\u001b[1;34m()\u001b[0m\n\u001b[0;32m      4\u001b[0m ipl_data \u001b[38;5;241m=\u001b[39m{\u001b[38;5;124m'\u001b[39m\u001b[38;5;124mTeam\u001b[39m\u001b[38;5;124m'\u001b[39m:[\u001b[38;5;124m'\u001b[39m\u001b[38;5;124mRiders\u001b[39m\u001b[38;5;124m'\u001b[39m, \u001b[38;5;124m'\u001b[39m\u001b[38;5;124mRiders\u001b[39m\u001b[38;5;124m'\u001b[39m, \u001b[38;5;124m'\u001b[39m\u001b[38;5;124mDevils\u001b[39m\u001b[38;5;124m'\u001b[39m, \u001b[38;5;124m'\u001b[39m\u001b[38;5;124mDevils\u001b[39m\u001b[38;5;124m'\u001b[39m, \u001b[38;5;124m'\u001b[39m\u001b[38;5;124mKings\u001b[39m\u001b[38;5;124m'\u001b[39m, \u001b[38;5;124m'\u001b[39m\u001b[38;5;124mKings\u001b[39m\u001b[38;5;124m'\u001b[39m, \u001b[38;5;124m'\u001b[39m\u001b[38;5;124mKings\u001b[39m\u001b[38;5;124m'\u001b[39m, \u001b[38;5;124m'\u001b[39m\u001b[38;5;124mKings\u001b[39m\u001b[38;5;124m'\u001b[39m, \u001b[38;5;124m'\u001b[39m\u001b[38;5;124mRiders\u001b[39m\u001b[38;5;124m'\u001b[39m, \u001b[38;5;124m'\u001b[39m\u001b[38;5;124mRoyals\u001b[39m\u001b[38;5;124m'\u001b[39m, \u001b[38;5;124m'\u001b[39m\u001b[38;5;124mRoyals\u001b[39m\u001b[38;5;124m'\u001b[39m, \u001b[38;5;124m'\u001b[39m\u001b[38;5;124mRiders\u001b[39m\u001b[38;5;124m'\u001b[39m],\n\u001b[0;32m      5\u001b[0m                   \u001b[38;5;124m'\u001b[39m\u001b[38;5;124mRank\u001b[39m\u001b[38;5;124m'\u001b[39m:[\u001b[38;5;241m1\u001b[39m,\u001b[38;5;241m2\u001b[39m,\u001b[38;5;241m2\u001b[39m,\u001b[38;5;241m3\u001b[39m,\u001b[38;5;241m3\u001b[39m,\u001b[38;5;241m4\u001b[39m,\u001b[38;5;241m1\u001b[39m,\u001b[38;5;241m1\u001b[39m,\u001b[38;5;241m2\u001b[39m,\u001b[38;5;241m4\u001b[39m,\u001b[38;5;241m1\u001b[39m,\u001b[38;5;241m2\u001b[39m], \n\u001b[0;32m      6\u001b[0m                   \u001b[38;5;124m'\u001b[39m\u001b[38;5;124mYear\u001b[39m\u001b[38;5;124m'\u001b[39m:[\u001b[38;5;241m2014\u001b[39m,\u001b[38;5;241m2015\u001b[39m,\u001b[38;5;241m2014\u001b[39m,\u001b[38;5;241m2015\u001b[39m,\u001b[38;5;241m2014\u001b[39m,\u001b[38;5;241m2015\u001b[39m,\u001b[38;5;241m2016\u001b[39m,\u001b[38;5;241m2017\u001b[39m,\u001b[38;5;241m2016\u001b[39m,\u001b[38;5;241m2014\u001b[39m,\u001b[38;5;241m2015\u001b[39m,\u001b[38;5;241m2017\u001b[39m], \n\u001b[0;32m      7\u001b[0m                   \u001b[38;5;124m'\u001b[39m\u001b[38;5;124mPoints\u001b[39m\u001b[38;5;124m'\u001b[39m:[\u001b[38;5;241m879\u001b[39m,\u001b[38;5;241m789\u001b[39m,\u001b[38;5;241m863\u001b[39m,\u001b[38;5;241m673\u001b[39m,\u001b[38;5;241m741\u001b[39m,\u001b[38;5;241m812\u001b[39m,\u001b[38;5;241m756\u001b[39m,\u001b[38;5;241m788\u001b[39m,\u001b[38;5;241m694\u001b[39m,\u001b[38;5;241m701\u001b[39m,\u001b[38;5;241m804\u001b[39m,\u001b[38;5;241m690\u001b[39m] }\n\u001b[0;32m      8\u001b[0m \u001b[38;5;66;03m###### Your Code Here #######\u001b[39;00m\n\u001b[0;32m      9\u001b[0m \u001b[38;5;66;03m# (~2 line of code)\u001b[39;00m\n\u001b[0;32m     10\u001b[0m \u001b[38;5;66;03m# use np.array\u001b[39;00m\n\u001b[0;32m     11\u001b[0m \n\u001b[0;32m     12\u001b[0m \u001b[38;5;66;03m##########################\u001b[39;00m\n\u001b[1;32m---> 14\u001b[0m \u001b[38;5;28mprint\u001b[39m(\u001b[43mipl1\u001b[49m)\n\u001b[0;32m     15\u001b[0m \u001b[38;5;28mprint\u001b[39m(ipl2)\n",
      "\u001b[1;31mNameError\u001b[0m: name 'ipl1' is not defined"
     ]
    }
   ],
   "source": [
    "import pandas as pd\n",
    "import numpy as np\n",
    "\n",
    "ipl_data ={'Team':['Riders', 'Riders', 'Devils', 'Devils', 'Kings', 'Kings', 'Kings', 'Kings', 'Riders', 'Royals', 'Royals', 'Riders'],\n",
    "                  'Rank':[1,2,2,3,3,4,1,1,2,4,1,2], \n",
    "                  'Year':[2014,2015,2014,2015,2014,2015,2016,2017,2016,2014,2015,2017], \n",
    "                  'Points':[879,789,863,673,741,812,756,788,694,701,804,690] }\n",
    "###### Your Code Here #######\n",
    "# (~2 line of code)\n",
    "# use np.array\n",
    "\n",
    "##########################\n",
    "\n",
    "print(ipl1)\n",
    "print(ipl2)\n"
   ]
  },
  {
   "cell_type": "markdown",
   "id": "1726a60f-615a-43ca-b402-d1083260ffb2",
   "metadata": {},
   "source": [
    "Now we need to visualize it"
   ]
  },
  {
   "cell_type": "code",
   "execution_count": 8,
   "id": "1aa59989-6480-4c34-82a2-c6b7effe1de6",
   "metadata": {},
   "outputs": [
    {
     "ename": "NameError",
     "evalue": "name 'x' is not defined",
     "output_type": "error",
     "traceback": [
      "\u001b[1;31m---------------------------------------------------------------------------\u001b[0m",
      "\u001b[1;31mNameError\u001b[0m                                 Traceback (most recent call last)",
      "Input \u001b[1;32mIn [8]\u001b[0m, in \u001b[0;36m<cell line: 3>\u001b[1;34m()\u001b[0m\n\u001b[0;32m      1\u001b[0m f1 \u001b[38;5;241m=\u001b[39m plt\u001b[38;5;241m.\u001b[39mfigure(\u001b[38;5;241m1\u001b[39m)\n\u001b[0;32m      2\u001b[0m ax1 \u001b[38;5;241m=\u001b[39m f1\u001b[38;5;241m.\u001b[39madd_subplot(\u001b[38;5;241m111\u001b[39m)\n\u001b[1;32m----> 3\u001b[0m ax1\u001b[38;5;241m.\u001b[39mplot(\u001b[43mx\u001b[49m, y, \u001b[38;5;124m'\u001b[39m\u001b[38;5;124mb.\u001b[39m\u001b[38;5;124m'\u001b[39m)\n",
      "\u001b[1;31mNameError\u001b[0m: name 'x' is not defined"
     ]
    },
    {
     "data": {
      "image/png": "[encoded data removed]",
      "text/plain": [
       "<Figure size 432x288 with 1 Axes>"
      ]
     },
     "metadata": {
      "needs_background": "light"
     },
     "output_type": "display_data"
    }
   ],
   "source": [
    "dfLoad = ## Your code Here ## \n",
    "samples = np.array(dfLoad)\n",
    "N = len(x)\n",
    "numK = 2\n",
    "samples = np.array(dfLoad)\n",
    "####### Your Code Here #########\n",
    "## (~2 lines of code)\n",
    "## Note: Detach the data stored on the address which is given.\n",
    "## \"https://raw.githubusercontent.com/meaning-ful/K-means/main/K-means.txt\".\n",
    "\n",
    "################################\n",
    "\n",
    "f1 = plt.figure(1)\n",
    "ax1 = f1.add_subplot(111)\n",
    "ax1.plot(x, y, 'b.')\n"
   ]
  },
  {
   "cell_type": "markdown",
   "id": "030ddea3-a812-4877-b087-5ee17b6e73bb",
   "metadata": {},
   "source": [
    "As shown in the chart, it seems difficult to classify these data points manually."
   ]
  },
  {
   "cell_type": "markdown",
   "id": "10b47aa2-681a-438a-abc1-87358671c88d",
   "metadata": {},
   "source": [
    "# Q4. How to initialize latent variables?"
   ]
  },
  {
   "cell_type": "code",
   "execution_count": 9,
   "id": "88ca347d-8c47-478d-81e3-dbf52ec9b2c2",
   "metadata": {},
   "outputs": [
    {
     "ename": "NameError",
     "evalue": "name 'x' is not defined",
     "output_type": "error",
     "traceback": [
      "\u001b[1;31m---------------------------------------------------------------------------\u001b[0m",
      "\u001b[1;31mNameError\u001b[0m                                 Traceback (most recent call last)",
      "Input \u001b[1;32mIn [9]\u001b[0m, in \u001b[0;36m<cell line: 3>\u001b[1;34m()\u001b[0m\n\u001b[0;32m      1\u001b[0m f1 \u001b[38;5;241m=\u001b[39m plt\u001b[38;5;241m.\u001b[39mfigure(\u001b[38;5;241m1\u001b[39m)\n\u001b[0;32m      2\u001b[0m ax1 \u001b[38;5;241m=\u001b[39m f1\u001b[38;5;241m.\u001b[39madd_subplot(\u001b[38;5;241m111\u001b[39m)\n\u001b[1;32m----> 3\u001b[0m ax1\u001b[38;5;241m.\u001b[39mplot(\u001b[43mx\u001b[49m, y, \u001b[38;5;124m'\u001b[39m\u001b[38;5;124mb.\u001b[39m\u001b[38;5;124m'\u001b[39m)\n\u001b[0;32m      4\u001b[0m [mx, sx] \u001b[38;5;241m=\u001b[39m [np\u001b[38;5;241m.\u001b[39mmean(x), np\u001b[38;5;241m.\u001b[39mstd(x)]\n\u001b[0;32m      5\u001b[0m [my, sy] \u001b[38;5;241m=\u001b[39m [np\u001b[38;5;241m.\u001b[39mmean(y), np\u001b[38;5;241m.\u001b[39mstd(y)]\n",
      "\u001b[1;31mNameError\u001b[0m: name 'x' is not defined"
     ]
    },
    {
     "data": {
      "image/png": "[encoded data removed]",
      "text/plain": [
       "<Figure size 432x288 with 1 Axes>"
      ]
     },
     "metadata": {
      "needs_background": "light"
     },
     "output_type": "display_data"
    }
   ],
   "source": [
    "f1 = plt.figure(1)\n",
    "ax1 = f1.add_subplot(111)\n",
    "ax1.plot(x, y, 'b.')\n",
    "[mx, sx] = [np.mean(x), np.std(x)]\n",
    "[my, sy] = [np.mean(y), np.std(y)]\n",
    "\n",
    "####### Your Code Here ##########\n",
    "## (~2 line of code)\n",
    "# Note. reshape\n",
    "\n",
    "#################################\n",
    "\n",
    "Z = np.r_[z0, z1]\n",
    "ax1.plot(Z[:,0], Z[:,1], 'r*', markersize = '20')\n"
   ]
  },
  {
   "cell_type": "markdown",
   "id": "f38eea3b-2425-485a-be7e-51467eefd727",
   "metadata": {
    "tags": []
   },
   "source": [
    "# Implement EM-Algorithm\n",
    "\n"
   ]
  },
  {
   "cell_type": "markdown",
   "id": "96b53e44",
   "metadata": {},
   "source": [
    "### Hint: Use 'Groupby' method ###\n",
    "![test](https://raw.githubusercontent.com/meaning-ful/ASDDSAADSSD/main/groupby.jpg)"
   ]
  },
  {
   "cell_type": "code",
   "execution_count": 2,
   "id": "258b7298",
   "metadata": {},
   "outputs": [
    {
     "name": "stdout",
     "output_type": "stream",
     "text": [
      "      Team  Rank  Year  Points\n",
      "0   Riders     1  2014     879\n",
      "1   Riders     2  2015     789\n",
      "2   Devils     2  2014     863\n",
      "3   Devils     3  2015     673\n",
      "4    Kings     3  2014     741\n",
      "5    Kings     4  2015     812\n",
      "6    Kings     1  2016     756\n",
      "7    Kings     1  2017     788\n",
      "8   Riders     2  2016     694\n",
      "9   Royals     4  2014     701\n",
      "10  Royals     1  2015     804\n",
      "11  Riders     2  2017     690\n",
      "\n",
      "<pandas.core.groupby.generic.SeriesGroupBy object at 0x00000268A8B75850>\n",
      "\n",
      "Team\n",
      "Devils    1536\n",
      "Kings     3097\n",
      "Riders    3052\n",
      "Royals    1505\n",
      "Name: Points, dtype: int64\n"
     ]
    }
   ],
   "source": [
    "## Groupby \n",
    "import pandas as pd\n",
    "import numpy as np\n",
    "\n",
    "ipl_data ={'Team':['Riders', 'Riders', 'Devils', 'Devils', 'Kings', 'Kings', 'Kings', 'Kings', 'Riders', 'Royals', 'Royals', 'Riders'],\n",
    "                  'Rank':[1,2,2,3,3,4,1,1,2,4,1,2], \n",
    "                  'Year':[2014,2015,2014,2015,2014,2015,2016,2017,2016,2014,2015,2017], \n",
    "                  'Points':[879,789,863,673,741,812,756,788,694,701,804,690] }\n",
    "ipl_df = pd.DataFrame(ipl_data) \n",
    "####### Your Code Here ##########\n",
    "\n",
    "## ( ~ 2 line of code)   \n",
    "## Note: Sum of points by team\n",
    "\n",
    "##############################\n",
    "        \n",
    "## Sum of points by team\n",
    "\n",
    "print(ipl_df, '\\n')\n",
    "print(ipl_df_groupby, '\\n')\n",
    "print(ipl_df_groupbySum)"
   ]
  },
  {
   "cell_type": "markdown",
   "id": "54feb873",
   "metadata": {},
   "source": [
    "### Hint: Use 'np.linalg.norm' method ###\n"
   ]
  },
  {
   "cell_type": "code",
   "execution_count": 5,
   "id": "0ae21367",
   "metadata": {},
   "outputs": [
    {
     "name": "stdout",
     "output_type": "stream",
     "text": [
      "16.0\n",
      "9.16515138991168\n",
      "7.91578321936081\n"
     ]
    }
   ],
   "source": [
    "import numpy as np\n",
    "\n",
    "ArrayforNorm = np.array([1, 3, 5, 7])\n",
    "Norm1 = np.linalg.norm(ArrayforNorm, 1) ## Vector 1-norm\n",
    "####### Your Code Here ##########\n",
    "\n",
    "## Vector 2-norm\n",
    "## Vectpr 3-norm\n",
    "\n",
    "\n",
    "##############################\n",
    "print(Norm1)\n",
    "print(Norm2)\n",
    "print(Norm3)"
   ]
  },
  {
   "cell_type": "markdown",
   "id": "b4566618",
   "metadata": {},
   "source": [
    "![test](https://raw.githubusercontent.com/meaning-ful/kmenas-pseudo/main/1.%20Psuedo%20Code.png)"
   ]
  },
  {
   "cell_type": "code",
   "execution_count": 10,
   "id": "1b587a4f-5a65-4381-b874-58d0ef8abced",
   "metadata": {},
   "outputs": [
    {
     "ename": "NameError",
     "evalue": "name 'N' is not defined",
     "output_type": "error",
     "traceback": [
      "\u001b[1;31m---------------------------------------------------------------------------\u001b[0m",
      "\u001b[1;31mNameError\u001b[0m                                 Traceback (most recent call last)",
      "Input \u001b[1;32mIn [10]\u001b[0m, in \u001b[0;36m<cell line: 1>\u001b[1;34m()\u001b[0m\n\u001b[1;32m----> 1\u001b[0m k \u001b[38;5;241m=\u001b[39m np\u001b[38;5;241m.\u001b[39mzeros(\u001b[43mN\u001b[49m)\n\u001b[0;32m      2\u001b[0m j \u001b[38;5;241m=\u001b[39m \u001b[38;5;241m0\u001b[39m\n\u001b[0;32m      3\u001b[0m \u001b[38;5;28;01mwhile\u001b[39;00m(\u001b[38;5;28;01mTrue\u001b[39;00m):\n",
      "\u001b[1;31mNameError\u001b[0m: name 'N' is not defined"
     ]
    }
   ],
   "source": [
    "N = len(x)\n",
    "numK = 2\n",
    "\n",
    "k = np.zeros(N)\n",
    "j = 0\n",
    "\n",
    "# Step 1) while(True)\n",
    "while(True):\n",
    "    j += 1\n",
    "    kOld = np.copy(k)\n",
    "    \n",
    "# Step 2) for(i = 1 to N)\n",
    "    for i in np.arange(N):\n",
    "        ####### Your Code Here ##########\n",
    "        ## ( ~ 2 line of code)\n",
    "        \n",
    "        #################################\n",
    "        \n",
    "        k[i] = z0D > z1D\n",
    "# Step3) if(No change of mapping from prev. loop)break        \n",
    "    if(np.alltrue(kOld == k)):\n",
    "        break        \n",
    "        \n",
    "# Step4) for( j =1 to K)               \n",
    "    dfCluster = pd.DataFrame(np.c_[x, y, k])\n",
    "    ####### Your Code Here #########\n",
    "    ## (~2 lines of code)\n",
    "\n",
    "    ################################\n",
    "    for cluster in range(numK):\n",
    "        Z[cluster,:] = dfGroup.mean().iloc[cluster]"
   ]
  },
  {
   "cell_type": "markdown",
   "id": "e20cb267-4026-4a1d-9616-d060fb31e766",
   "metadata": {},
   "source": [
    "# Visualization of Result"
   ]
  },
  {
   "cell_type": "code",
   "execution_count": 11,
   "id": "6bdd938e-ac6e-4eb6-8c8f-785268a310bd",
   "metadata": {},
   "outputs": [
    {
     "ename": "IndentationError",
     "evalue": "expected an indented block (2051148837.py, line 11)",
     "output_type": "error",
     "traceback": [
      "\u001b[1;36m  Input \u001b[1;32mIn [11]\u001b[1;36m\u001b[0m\n\u001b[1;33m    ax2.plot(Z[:,0], Z[:,1], 'r*', markersize = '20')\u001b[0m\n\u001b[1;37m    ^\u001b[0m\n\u001b[1;31mIndentationError\u001b[0m\u001b[1;31m:\u001b[0m expected an indented block\n"
     ]
    }
   ],
   "source": [
    "f2 = plt.figure(2)\n",
    "ax2 = f2.add_subplot(111)\n",
    "# ax2.plot(x, y, 'b.')\n",
    "for (cluster, dataInCluster) in dfGroup:\n",
    "    ####### Your Code Here #########\n",
    "    ## (~1 lines of code)\n",
    "\n",
    "    ################################\n",
    "    #ax2.plot()\n",
    "\n",
    "ax2.plot(Z[:,0], Z[:,1], 'r*', markersize = '20')\n",
    "ax2.legend()"
   ]
  },
  {
   "cell_type": "markdown",
   "id": "998f0651-5fad-4d65-85a7-faa4a3a6ccd3",
   "metadata": {},
   "source": [
    "# Final code"
   ]
  },
  {
   "cell_type": "code",
   "execution_count": 12,
   "id": "0f130d01-c496-4527-96a0-4b1fde1e08e8",
   "metadata": {},
   "outputs": [
    {
     "ename": "IndentationError",
     "evalue": "expected an indented block (3681973867.py, line 70)",
     "output_type": "error",
     "traceback": [
      "\u001b[1;36m  Input \u001b[1;32mIn [12]\u001b[1;36m\u001b[0m\n\u001b[1;33m    ax2.plot(Z[:,0], Z[:,1], 'r*', markersize = '20')\u001b[0m\n\u001b[1;37m    ^\u001b[0m\n\u001b[1;31mIndentationError\u001b[0m\u001b[1;31m:\u001b[0m expected an indented block\n"
     ]
    }
   ],
   "source": [
    "import numpy as np\n",
    "import math as m\n",
    "import matplotlib.pyplot as plt\n",
    "import pandas as pd\n",
    "\n",
    "plt.close(\"all\")\n",
    "\n",
    "dfLoad = pd.read_csv(\"https://raw.githubusercontent.com/meaning-ful/K-means/main/K-means.txt\",  sep=\"\\s+\")\n",
    "\n",
    "samples = np.array(dfLoad)\n",
    "####### Your Code Here #########\n",
    "## (~2 lines of code)\n",
    "\n",
    "################################\n",
    "\n",
    "N = len(x)\n",
    "numK = 2\n",
    "\n",
    "f1 = plt.figure(1)\n",
    "ax1 = f1.add_subplot(111)\n",
    "ax1.plot(x, y, 'b.')\n",
    "\n",
    "mx, sx = np.mean(x), np.std(x)\n",
    "my, sy = np.mean(y), np.std(y)\n",
    "####### Your Code Here #########\n",
    "## (~2 lines of code)\n",
    "\n",
    "################################\n",
    "\n",
    "Z = np.vstack([z0, z1])\n",
    "ax1.plot(Z[:,0], Z[:,1], 'r*', markersize = '20')\n",
    "\n",
    "k = np.zeros(N)\n",
    "j = 0\n",
    "\n",
    "while(True):\n",
    "    j += 1\n",
    "    kOld = np.copy(k)\n",
    "    for i in np.arange(N):\n",
    "\n",
    "        ####### Your Code Here #########\n",
    "        ## (~2 lines of code)\n",
    "\n",
    "        ################################\n",
    "        \n",
    "        k[i] = z0D > z1D\n",
    "    if(np.alltrue(kOld == k)):\n",
    "        break        \n",
    "        \n",
    "    dfCluster = pd.DataFrame(np.c_[x, y, k])\n",
    "    ####### Your Code Here #########\n",
    "    ## (~2 lines of code)\n",
    "\n",
    "    ################################\n",
    "    \n",
    "    for cluster in range(numK):\n",
    "        Z[cluster,:] = dfGroup.mean().iloc[cluster]\n",
    "\n",
    "\n",
    "f2 = plt.figure(2)\n",
    "ax2 = f2.add_subplot(111)\n",
    "\n",
    "for (cluster, dataInCluster) in dfGroup:\n",
    "    ####### Your Code Here #########\n",
    "    ## (~1 lines of code)\n",
    "\n",
    "    ################################\n",
    "\n",
    "ax2.plot(Z[:,0], Z[:,1], 'r*', markersize = '20')\n",
    "ax2.legend()"
   ]
  },
  {
   "cell_type": "markdown",
   "id": "af1b8883",
   "metadata": {},
   "source": [
    "# Submission\n",
    "In order to get credit, you need to submit the ipynb file to LMS.\n",
    "\n",
    "To get this file, click File and Download .ipynb. Please make sure that your output of each cell is available in your ipynb file."
   ]
  }
 ],
 "metadata": {
  "kernelspec": {
   "display_name": "Python 3",
   "language": "python",
   "name": "python3"
  },
  "language_info": {
   "codemirror_mode": {
    "name": "ipython",
    "version": 3
   },
   "file_extension": ".py",
   "mimetype": "text/x-python",
   "name": "python",
   "nbconvert_exporter": "python",
   "pygments_lexer": "ipython3",
   "version": "3.8.8"
  }
 },
 "nbformat": 4,
 "nbformat_minor": 5
}
